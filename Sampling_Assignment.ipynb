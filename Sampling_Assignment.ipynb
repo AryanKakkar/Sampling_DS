{
  "nbformat": 4,
  "nbformat_minor": 0,
  "metadata": {
    "colab": {
      "provenance": []
    },
    "kernelspec": {
      "name": "python3",
      "display_name": "Python 3"
    },
    "language_info": {
      "name": "python"
    }
  },
  "cells": [
    {
      "cell_type": "code",
      "execution_count": 3,
      "metadata": {
        "id": "KCYjxw9_X18g"
      },
      "outputs": [],
      "source": [
        "import pandas as pd\n",
        "from sklearn.model_selection import train_test_split\n",
        "from sklearn.metrics import accuracy_score\n",
        "from sklearn.linear_model import LogisticRegression\n",
        "from sklearn.tree import DecisionTreeClassifier\n",
        "from sklearn.ensemble import RandomForestClassifier\n",
        "from sklearn.svm import SVC\n",
        "from sklearn.neighbors import KNeighborsClassifier\n",
        "from imblearn.over_sampling import SMOTE\n",
        "import numpy as np"
      ]
    },
    {
      "cell_type": "code",
      "source": [
        "def load_data(file_path):\n",
        "    data = pd.read_csv(file_path)\n",
        "    print(data.head())\n",
        "    print(data.info())\n",
        "    return data\n"
      ],
      "metadata": {
        "id": "8cgX-004e_pD"
      },
      "execution_count": 4,
      "outputs": []
    },
    {
      "cell_type": "code",
      "source": [
        "def preprocess_data(data, target_col):\n",
        "    X = data.drop(target_col, axis=1)\n",
        "    y = data[target_col]\n",
        "    smote = SMOTE(random_state=42)\n",
        "    X_resampled, y_resampled = smote.fit_resample(X, y)\n",
        "\n",
        "    print(\"Original class distribution:\")\n",
        "    print(y.value_counts())\n",
        "    print(\"Resampled class distribution:\")\n",
        "    print(y_resampled.value_counts())\n",
        "    return X_resampled, y_resampled"
      ],
      "metadata": {
        "id": "3dZSe6VSe_zP"
      },
      "execution_count": 6,
      "outputs": []
    },
    {
      "cell_type": "code",
      "source": [
        "def create_samples(X_resampled, y_resampled, sample_size):\n",
        "    samples = {\n",
        "        \"Sampling1\": X_resampled.sample(n=sample_size, random_state=45),\n",
        "        \"Sampling2\": X_resampled.sample(n=sample_size, random_state=20),\n",
        "        \"Sampling3\": X_resampled.iloc[::len(X_resampled) // sample_size, :],\n",
        "        \"Sampling4\": X_resampled.sample(n=sample_size, random_state=55),\n",
        "        \"Sampling5\": X_resampled.sample(n=sample_size, random_state=100),\n",
        "    }\n",
        "    return {\n",
        "        name: (sample, y_resampled.loc[sample.index])\n",
        "        for name, sample in samples.items()\n",
        "    }"
      ],
      "metadata": {
        "id": "f_CY46mIe_8J"
      },
      "execution_count": 7,
      "outputs": []
    },
    {
      "cell_type": "code",
      "source": [
        "def evaluate_models(models, sample_datasets):\n",
        "    results = {}\n",
        "    for sample_name, (X_sample, y_sample) in sample_datasets.items():\n",
        "        print(f\"Evaluating for {sample_name}...\")\n",
        "        X_train, X_test, y_train, y_test = train_test_split(\n",
        "            X_sample, y_sample, test_size=0.3, random_state=42\n",
        "        )\n",
        "        for model_name, model in models.items():\n",
        "            model.fit(X_train, y_train)\n",
        "            predictions = model.predict(X_test)\n",
        "            accuracy = accuracy_score(y_test, predictions)\n",
        "            results.setdefault(sample_name, {})[model_name] = accuracy\n",
        "    return results\n"
      ],
      "metadata": {
        "id": "vbYV3NI4e_-t"
      },
      "execution_count": 8,
      "outputs": []
    },
    {
      "cell_type": "code",
      "source": [
        "def generate_accuracy_matrix(results, models):\n",
        "    matrix_data = [\n",
        "        [accuracies.get(model, None) for model in models.keys()]\n",
        "        for accuracies in results.values()\n",
        "    ]\n",
        "    return pd.DataFrame(\n",
        "        matrix_data, index=results.keys(), columns=models.keys()\n",
        "    )\n"
      ],
      "metadata": {
        "id": "ey5dQ2r9fABC"
      },
      "execution_count": 9,
      "outputs": []
    },
    {
      "cell_type": "code",
      "source": [
        "def main():\n",
        "    # Load and preprocess the data\n",
        "    file_path = \"/content/Creditcard_data.csv\"\n",
        "    data = load_data(file_path)\n",
        "    X_resampled, y_resampled = preprocess_data(data, \"Class\")\n",
        "\n",
        "    # Create sampled datasets\n",
        "    sample_size = 1000\n",
        "    sample_datasets = create_samples(X_resampled, y_resampled, sample_size)\n",
        "\n",
        "    # Define models\n",
        "    models = {\n",
        "        \"LR\": LogisticRegression(random_state=42),\n",
        "        \"DT\": DecisionTreeClassifier(random_state=42),\n",
        "        \"RF\": RandomForestClassifier(random_state=42),\n",
        "        \"SVC\": SVC(random_state=42),\n",
        "        \"KNN\": KNeighborsClassifier(),\n",
        "    }\n",
        "\n",
        "    # Evaluate models\n",
        "    results = evaluate_models(models, sample_datasets)\n",
        "\n",
        "    # Generate and save the accuracy matrix\n",
        "    results_matrix = generate_accuracy_matrix(results, models)\n",
        "    print(\"Accuracy Matrix (Assignment Format):\")\n",
        "    print(results_matrix)\n",
        "\n",
        "    # Find the best sampling technique for each model\n",
        "    best_combinations = results_matrix.idxmax()\n",
        "    print(\"Best Sampling Technique for Each Model:\")\n",
        "    print(best_combinations)\n",
        "\n",
        "    # Save results\n",
        "    results_matrix.to_csv(\"results_matrix_assignment_exact.csv\")\n",
        "\n"
      ],
      "metadata": {
        "id": "-8-FCBBYfADX"
      },
      "execution_count": 10,
      "outputs": []
    },
    {
      "cell_type": "code",
      "source": [
        "if __name__ == \"__main__\":\n",
        "    main()"
      ],
      "metadata": {
        "colab": {
          "base_uri": "https://localhost:8080/"
        },
        "id": "E89AP3_FfVZ2",
        "outputId": "39f5dacf-0d98-4863-efcf-2c774fe4b9ad"
      },
      "execution_count": 11,
      "outputs": [
        {
          "output_type": "stream",
          "name": "stdout",
          "text": [
            "   Time        V1        V2        V3        V4        V5        V6        V7  \\\n",
            "0     0 -1.359807 -0.072781  2.536347  1.378155 -0.338321  0.462388  0.239599   \n",
            "1     0  1.191857  0.266151  0.166480  0.448154  0.060018 -0.082361 -0.078803   \n",
            "2     1 -1.358354 -1.340163  1.773209  0.379780 -0.503198  1.800499  0.791461   \n",
            "3     1 -0.966272 -0.185226  1.792993 -0.863291 -0.010309  1.247203  0.237609   \n",
            "4     2 -1.158233  0.877737  1.548718  0.403034 -0.407193  0.095921  0.592941   \n",
            "\n",
            "         V8        V9  ...       V21       V22       V23       V24       V25  \\\n",
            "0  0.098698  0.363787  ... -0.018307  0.277838 -0.110474  0.066928  0.128539   \n",
            "1  0.085102 -0.255425  ... -0.225775 -0.638672  0.101288 -0.339846  0.167170   \n",
            "2  0.247676 -1.514654  ...  0.247998  0.771679  0.909412 -0.689281 -0.327642   \n",
            "3  0.377436 -1.387024  ... -0.108300  0.005274 -0.190321 -1.175575  0.647376   \n",
            "4 -0.270533  0.817739  ... -0.009431  0.798278 -0.137458  0.141267 -0.206010   \n",
            "\n",
            "        V26       V27       V28  Amount  Class  \n",
            "0 -0.189115  0.133558 -0.021053  149.62      0  \n",
            "1  0.125895 -0.008983  0.014724    2.69      1  \n",
            "2 -0.139097 -0.055353 -0.059752  378.66      0  \n",
            "3 -0.221929  0.062723  0.061458  123.50      0  \n",
            "4  0.502292  0.219422  0.215153   69.99      0  \n",
            "\n",
            "[5 rows x 31 columns]\n",
            "<class 'pandas.core.frame.DataFrame'>\n",
            "RangeIndex: 772 entries, 0 to 771\n",
            "Data columns (total 31 columns):\n",
            " #   Column  Non-Null Count  Dtype  \n",
            "---  ------  --------------  -----  \n",
            " 0   Time    772 non-null    int64  \n",
            " 1   V1      772 non-null    float64\n",
            " 2   V2      772 non-null    float64\n",
            " 3   V3      772 non-null    float64\n",
            " 4   V4      772 non-null    float64\n",
            " 5   V5      772 non-null    float64\n",
            " 6   V6      772 non-null    float64\n",
            " 7   V7      772 non-null    float64\n",
            " 8   V8      772 non-null    float64\n",
            " 9   V9      772 non-null    float64\n",
            " 10  V10     772 non-null    float64\n",
            " 11  V11     772 non-null    float64\n",
            " 12  V12     772 non-null    float64\n",
            " 13  V13     772 non-null    float64\n",
            " 14  V14     772 non-null    float64\n",
            " 15  V15     772 non-null    float64\n",
            " 16  V16     772 non-null    float64\n",
            " 17  V17     772 non-null    float64\n",
            " 18  V18     772 non-null    float64\n",
            " 19  V19     772 non-null    float64\n",
            " 20  V20     772 non-null    float64\n",
            " 21  V21     772 non-null    float64\n",
            " 22  V22     772 non-null    float64\n",
            " 23  V23     772 non-null    float64\n",
            " 24  V24     772 non-null    float64\n",
            " 25  V25     772 non-null    float64\n",
            " 26  V26     772 non-null    float64\n",
            " 27  V27     772 non-null    float64\n",
            " 28  V28     772 non-null    float64\n",
            " 29  Amount  772 non-null    float64\n",
            " 30  Class   772 non-null    int64  \n",
            "dtypes: float64(29), int64(2)\n",
            "memory usage: 187.1 KB\n",
            "None\n",
            "Original class distribution:\n",
            "Class\n",
            "0    763\n",
            "1      9\n",
            "Name: count, dtype: int64\n",
            "Resampled class distribution:\n",
            "Class\n",
            "0    763\n",
            "1    763\n",
            "Name: count, dtype: int64\n",
            "Evaluating for Sampling1...\n"
          ]
        },
        {
          "output_type": "stream",
          "name": "stderr",
          "text": [
            "/usr/local/lib/python3.11/dist-packages/sklearn/linear_model/_logistic.py:465: ConvergenceWarning: lbfgs failed to converge (status=1):\n",
            "STOP: TOTAL NO. of ITERATIONS REACHED LIMIT.\n",
            "\n",
            "Increase the number of iterations (max_iter) or scale the data as shown in:\n",
            "    https://scikit-learn.org/stable/modules/preprocessing.html\n",
            "Please also refer to the documentation for alternative solver options:\n",
            "    https://scikit-learn.org/stable/modules/linear_model.html#logistic-regression\n",
            "  n_iter_i = _check_optimize_result(\n"
          ]
        },
        {
          "output_type": "stream",
          "name": "stdout",
          "text": [
            "Evaluating for Sampling2...\n"
          ]
        },
        {
          "output_type": "stream",
          "name": "stderr",
          "text": [
            "/usr/local/lib/python3.11/dist-packages/sklearn/linear_model/_logistic.py:465: ConvergenceWarning: lbfgs failed to converge (status=1):\n",
            "STOP: TOTAL NO. of ITERATIONS REACHED LIMIT.\n",
            "\n",
            "Increase the number of iterations (max_iter) or scale the data as shown in:\n",
            "    https://scikit-learn.org/stable/modules/preprocessing.html\n",
            "Please also refer to the documentation for alternative solver options:\n",
            "    https://scikit-learn.org/stable/modules/linear_model.html#logistic-regression\n",
            "  n_iter_i = _check_optimize_result(\n"
          ]
        },
        {
          "output_type": "stream",
          "name": "stdout",
          "text": [
            "Evaluating for Sampling3...\n"
          ]
        },
        {
          "output_type": "stream",
          "name": "stderr",
          "text": [
            "/usr/local/lib/python3.11/dist-packages/sklearn/linear_model/_logistic.py:465: ConvergenceWarning: lbfgs failed to converge (status=1):\n",
            "STOP: TOTAL NO. of ITERATIONS REACHED LIMIT.\n",
            "\n",
            "Increase the number of iterations (max_iter) or scale the data as shown in:\n",
            "    https://scikit-learn.org/stable/modules/preprocessing.html\n",
            "Please also refer to the documentation for alternative solver options:\n",
            "    https://scikit-learn.org/stable/modules/linear_model.html#logistic-regression\n",
            "  n_iter_i = _check_optimize_result(\n"
          ]
        },
        {
          "output_type": "stream",
          "name": "stdout",
          "text": [
            "Evaluating for Sampling4...\n"
          ]
        },
        {
          "output_type": "stream",
          "name": "stderr",
          "text": [
            "/usr/local/lib/python3.11/dist-packages/sklearn/linear_model/_logistic.py:465: ConvergenceWarning: lbfgs failed to converge (status=1):\n",
            "STOP: TOTAL NO. of ITERATIONS REACHED LIMIT.\n",
            "\n",
            "Increase the number of iterations (max_iter) or scale the data as shown in:\n",
            "    https://scikit-learn.org/stable/modules/preprocessing.html\n",
            "Please also refer to the documentation for alternative solver options:\n",
            "    https://scikit-learn.org/stable/modules/linear_model.html#logistic-regression\n",
            "  n_iter_i = _check_optimize_result(\n"
          ]
        },
        {
          "output_type": "stream",
          "name": "stdout",
          "text": [
            "Evaluating for Sampling5...\n"
          ]
        },
        {
          "output_type": "stream",
          "name": "stderr",
          "text": [
            "/usr/local/lib/python3.11/dist-packages/sklearn/linear_model/_logistic.py:465: ConvergenceWarning: lbfgs failed to converge (status=1):\n",
            "STOP: TOTAL NO. of ITERATIONS REACHED LIMIT.\n",
            "\n",
            "Increase the number of iterations (max_iter) or scale the data as shown in:\n",
            "    https://scikit-learn.org/stable/modules/preprocessing.html\n",
            "Please also refer to the documentation for alternative solver options:\n",
            "    https://scikit-learn.org/stable/modules/linear_model.html#logistic-regression\n",
            "  n_iter_i = _check_optimize_result(\n"
          ]
        },
        {
          "output_type": "stream",
          "name": "stdout",
          "text": [
            "Accuracy Matrix (Assignment Format):\n",
            "                 LR        DT        RF       SVC       KNN\n",
            "Sampling1  0.903333  0.963333  0.990000  0.660000  0.830000\n",
            "Sampling2  0.916667  0.973333  0.996667  0.650000  0.856667\n",
            "Sampling3  0.906114  0.978166  0.993450  0.676856  0.847162\n",
            "Sampling4  0.926667  0.986667  1.000000  0.673333  0.806667\n",
            "Sampling5  0.930000  0.973333  0.996667  0.650000  0.803333\n",
            "Best Sampling Technique for Each Model:\n",
            "LR     Sampling5\n",
            "DT     Sampling4\n",
            "RF     Sampling4\n",
            "SVC    Sampling3\n",
            "KNN    Sampling2\n",
            "dtype: object\n"
          ]
        }
      ]
    }
  ]
}